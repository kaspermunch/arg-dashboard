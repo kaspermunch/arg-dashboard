{
 "cells": [
  {
   "cell_type": "code",
   "execution_count": 47,
   "id": "willing-lobby",
   "metadata": {},
   "outputs": [],
   "source": [
    "#from popgen_dashboards.arg_dashboard import app\n",
    "from arg_dashboard import app\n",
    "import arg_dashboard"
   ]
  },
  {
   "cell_type": "code",
   "execution_count": 52,
   "id": "boring-thesaurus",
   "metadata": {},
   "outputs": [
    {
     "data": {
      "text/plain": [
       "<module 'arg_dashboard' from '/Users/kmt/Desktop/arg-dashboard/arg_dashboard/arg_dashboard.py'>"
      ]
     },
     "execution_count": 52,
     "metadata": {},
     "output_type": "execute_result"
    }
   ],
   "source": [
    "import arg_dashboard\n",
    "from importlib import reload\n",
    "reload(arg_dashboard)"
   ]
  },
  {
   "cell_type": "markdown",
   "id": "pacific-german",
   "metadata": {},
   "source": [
    "# This is an exercise"
   ]
  },
  {
   "cell_type": "code",
   "execution_count": 53,
   "id": "electrical-accreditation",
   "metadata": {},
   "outputs": [
    {
     "data": {
      "text/html": [
       "\n",
       "        <iframe\n",
       "            width=\"100%\"\n",
       "            height=\"900\"\n",
       "            src=\"http://127.0.0.1:8050/\"\n",
       "            frameborder=\"0\"\n",
       "            allowfullscreen\n",
       "        ></iframe>\n",
       "        "
      ],
      "text/plain": [
       "<IPython.lib.display.IFrame at 0x13910a0d0>"
      ]
     },
     "metadata": {},
     "output_type": "display_data"
    }
   ],
   "source": [
    "arg_dashboard.app.run_server(mode='inline', height=900, debug=True)"
   ]
  },
  {
   "cell_type": "code",
   "execution_count": 49,
   "id": "devoted-edition",
   "metadata": {},
   "outputs": [],
   "source": [
    "app.run_server(mode='jupyterlab')"
   ]
  },
  {
   "cell_type": "code",
   "execution_count": null,
   "id": "medieval-chaos",
   "metadata": {},
   "outputs": [],
   "source": []
  }
 ],
 "metadata": {
  "kernelspec": {
   "display_name": "Python 3",
   "language": "python",
   "name": "python3"
  },
  "language_info": {
   "codemirror_mode": {
    "name": "ipython",
    "version": 3
   },
   "file_extension": ".py",
   "mimetype": "text/x-python",
   "name": "python",
   "nbconvert_exporter": "python",
   "pygments_lexer": "ipython3",
   "version": "3.9.1"
  }
 },
 "nbformat": 4,
 "nbformat_minor": 5
}
