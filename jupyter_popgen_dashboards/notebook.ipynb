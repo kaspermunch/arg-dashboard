{
 "cells": [
  {
   "cell_type": "markdown",
   "id": "quarterly-meaning",
   "metadata": {},
   "source": [
    "traverse_marginal, marginal_trees\n",
    "\n",
    "marginal_trees -> (get_breakpoints, marginal_arg -> traverse_marginal)"
   ]
  },
  {
   "cell_type": "markdown",
   "id": "governmental-radical",
   "metadata": {},
   "source": [
    "I think i need to:\n",
    "\n",
    "- Add interval as argument to marginal_trees\n",
    "#- Only include breakpoints where both recombination parents are in the marginal arg\n",
    "- Add flanking borders to breakpoints that "
   ]
  },
  {
   "cell_type": "code",
   "execution_count": 1,
   "id": "supported-laser",
   "metadata": {},
   "outputs": [
    {
     "data": {
      "text/html": [
       "\n",
       "        <iframe\n",
       "            width=\"100%\"\n",
       "            height=\"900\"\n",
       "            src=\"http://127.0.0.1:8050/\"\n",
       "            frameborder=\"0\"\n",
       "            allowfullscreen\n",
       "        ></iframe>\n",
       "        "
      ],
      "text/plain": [
       "<IPython.lib.display.IFrame at 0x11c57faf0>"
      ]
     },
     "metadata": {},
     "output_type": "display_data"
    }
   ],
   "source": [
    "#from popgen_dashboards.arg_dashboard import app\n",
    "from arg_dashboard import app\n",
    "import arg_dashboard\n",
    "\n",
    "import arg_dashboard\n",
    "from importlib import reload\n",
    "reload(arg_dashboard)\n",
    "\n",
    "arg_dashboard.app.run_server(mode='inline', height=900, debug=True)"
   ]
  },
  {
   "cell_type": "code",
   "execution_count": null,
   "id": "rising-moral",
   "metadata": {},
   "outputs": [],
   "source": []
  }
 ],
 "metadata": {
  "kernelspec": {
   "display_name": "Python 3",
   "language": "python",
   "name": "python3"
  },
  "language_info": {
   "codemirror_mode": {
    "name": "ipython",
    "version": 3
   },
   "file_extension": ".py",
   "mimetype": "text/x-python",
   "name": "python",
   "nbconvert_exporter": "python",
   "pygments_lexer": "ipython3",
   "version": "3.9.1"
  }
 },
 "nbformat": 4,
 "nbformat_minor": 5
}
