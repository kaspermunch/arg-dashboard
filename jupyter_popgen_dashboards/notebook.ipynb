{
 "cells": [
  {
   "cell_type": "code",
   "execution_count": 94,
   "id": "included-necessity",
   "metadata": {},
   "outputs": [
    {
     "data": {
      "text/html": [
       "\n",
       "        <iframe\n",
       "            width=\"100%\"\n",
       "            height=\"900\"\n",
       "            src=\"http://127.0.0.1:8050/\"\n",
       "            frameborder=\"0\"\n",
       "            allowfullscreen\n",
       "        ></iframe>\n",
       "        "
      ],
      "text/plain": [
       "<IPython.lib.display.IFrame at 0x141f85910>"
      ]
     },
     "metadata": {},
     "output_type": "display_data"
    },
    {
     "name": "stdout",
     "output_type": "stream",
     "text": [
      "Empty tree...\n",
      "Empty tree...\n",
      "Empty tree...\n",
      "Empty tree...\n",
      "Empty tree...\n",
      "Empty tree...\n",
      "Empty tree...\n",
      "Empty tree...\n",
      "Empty tree...\n",
      "Empty tree...\n",
      "Empty tree...\n",
      "Empty tree...\n",
      "Empty tree...\n",
      "Empty tree...\n",
      "Empty tree...\n",
      "Empty tree...\n",
      "Empty tree...\n",
      "Empty tree...\n",
      "Empty tree...\n",
      "Empty tree...\n",
      "Empty tree...\n",
      "Empty tree...\n",
      "Empty tree...\n",
      "Empty tree...\n",
      "Empty tree...\n",
      "Empty tree...\n",
      "Empty tree...\n",
      "Empty tree...\n",
      "Empty tree...\n",
      "Empty tree...\n",
      "Empty tree...\n",
      "Empty tree...\n",
      "Empty tree...\n",
      "Empty tree...\n",
      "Empty tree...\n",
      "Empty tree...\n",
      "Empty tree...\n",
      "Empty tree...\n",
      "Empty tree...\n",
      "Empty tree...\n",
      "Empty tree...\n",
      "Empty tree...\n",
      "Empty tree...\n",
      "Empty tree...\n",
      "Empty tree...\n",
      "Empty tree...\n",
      "Empty tree...\n",
      "Empty tree...\n",
      "Empty tree...\n",
      "Empty tree...\n",
      "Empty tree...\n",
      "Empty tree...\n",
      "Empty tree...\n",
      "Empty tree...\n",
      "Empty tree...\n",
      "Empty tree...\n",
      "Empty tree...\n",
      "Empty tree...\n",
      "Empty tree...\n",
      "Empty tree...\n",
      "Empty tree...\n",
      "Empty tree...\n",
      "Empty tree...\n",
      "Empty tree...\n",
      "Empty tree...\n",
      "Empty tree...\n",
      "Empty tree...\n",
      "Empty tree...\n",
      "Empty tree...\n",
      "Empty tree...\n",
      "Empty tree...\n",
      "Empty tree...\n"
     ]
    }
   ],
   "source": [
    "#from popgen_dashboards.arg_dashboard import app\n",
    "from arg_dashboard import app\n",
    "import arg_dashboard\n",
    "\n",
    "import arg_dashboard\n",
    "from importlib import reload\n",
    "reload(arg_dashboard)\n",
    "\n",
    "arg_dashboard.app.run_server(mode='inline', height=900, debug=True)"
   ]
  },
  {
   "cell_type": "code",
   "execution_count": 11,
   "id": "assured-leader",
   "metadata": {},
   "outputs": [],
   "source": [
    "l = [[1,2], [4,5]]"
   ]
  },
  {
   "cell_type": "code",
   "execution_count": 6,
   "id": "alone-duncan",
   "metadata": {},
   "outputs": [
    {
     "data": {
      "text/plain": [
       "[1, 2, 4, 5]"
      ]
     },
     "execution_count": 6,
     "metadata": {},
     "output_type": "execute_result"
    }
   ],
   "source": [
    "[x for sublist in l for x in sublist]"
   ]
  },
  {
   "cell_type": "code",
   "execution_count": null,
   "id": "different-refrigerator",
   "metadata": {},
   "outputs": [],
   "source": []
  }
 ],
 "metadata": {
  "kernelspec": {
   "display_name": "Python 3",
   "language": "python",
   "name": "python3"
  },
  "language_info": {
   "codemirror_mode": {
    "name": "ipython",
    "version": 3
   },
   "file_extension": ".py",
   "mimetype": "text/x-python",
   "name": "python",
   "nbconvert_exporter": "python",
   "pygments_lexer": "ipython3",
   "version": "3.9.1"
  }
 },
 "nbformat": 4,
 "nbformat_minor": 5
}
