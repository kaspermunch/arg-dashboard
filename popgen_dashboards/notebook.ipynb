{
 "cells": [
  {
   "cell_type": "markdown",
   "id": "korean-contents",
   "metadata": {},
   "source": [
    "traverse_marginal, marginal_trees\n",
    "\n",
    "marginal_trees -> (get_breakpoints, marginal_arg -> traverse_marginal)"
   ]
  },
  {
   "cell_type": "markdown",
   "id": "established-index",
   "metadata": {},
   "source": [
    "I think i need to:\n",
    "\n",
    "- Add interval as argument to marginal_trees\n",
    "#- Only include breakpoints where both recombination parents are in the marginal arg\n",
    "- Add flanking borders to breakpoints that "
   ]
  },
  {
   "cell_type": "code",
   "execution_count": 11,
   "id": "native-retention",
   "metadata": {},
   "outputs": [
    {
     "data": {
      "text/html": [
       "\n",
       "        <iframe\n",
       "            width=\"100%\"\n",
       "            height=\"900\"\n",
       "            src=\"http://127.0.0.1:8050/\"\n",
       "            frameborder=\"0\"\n",
       "            allowfullscreen\n",
       "        ></iframe>\n",
       "        "
      ],
      "text/plain": [
       "<IPython.lib.display.IFrame at 0x13a12c7c0>"
      ]
     },
     "metadata": {},
     "output_type": "display_data"
    }
   ],
   "source": [
    "# from popgen_dashboards.arg_dashboard import app\n",
    "# app.run_server(mode='inline', height=900, debug=True)\n",
    "\n",
    "from arg_dashboard import app\n",
    "import arg_dashboard\n",
    "\n",
    "import arg_dashboard\n",
    "from importlib import reload\n",
    "reload(arg_dashboard)\n",
    "\n",
    "arg_dashboard.app.run_server(mode='inline', height=900, debug=True)"
   ]
  },
  {
   "cell_type": "code",
   "execution_count": 30,
   "id": "loved-champion",
   "metadata": {},
   "outputs": [
    {
     "data": {
      "text/plain": [
       "[[0, 1]]"
      ]
     },
     "execution_count": 30,
     "metadata": {},
     "output_type": "execute_result"
    }
   ],
   "source": [
    "def segments_crossing(line1, line2):\n",
    "    xdiff = (line1[0][0] - line1[1][0], line2[0][0] - line2[1][0])\n",
    "    ydiff = (line1[0][1] - line1[1][1], line2[0][1] - line2[1][1])\n",
    "\n",
    "    def det(a, b):\n",
    "        return a[0] * b[1] - a[1] * b[0]\n",
    "\n",
    "    div = det(xdiff, ydiff)\n",
    "    if div == 0:\n",
    "        return False\n",
    "    #    raise Exception('lines do not intersect')\n",
    "\n",
    "    d = (det(*line1), det(*line2))\n",
    "    x = det(d, xdiff) / div\n",
    "    y = det(d, ydiff) / div\n",
    "\n",
    "    # return x, y\n",
    "\n",
    "    return \\\n",
    "        min(line1[0][0], line1[1][0]) < x < max(line1[0][0], line1[1][0]) and \\\n",
    "        min(line2[0][0], line2[1][0]) < x < max(line2[0][0], line2[1][0]) and \\\n",
    "        min(line1[0][1], line1[1][1]) < y < max(line1[0][1], line1[1][1]) and \\\n",
    "        min(line2[0][1], line2[1][1]) < y < max(line2[0][1], line2[1][1])\n",
    "\n",
    "\n",
    "def crossing(a, b):\n",
    "    return segments_crossing(\n",
    "        ((a.down.xpos, a.down.height), (a.up.xpos, a.up.height)), \n",
    "        ((b.down.xpos, b.down.height), (b.up.xpos, b.up.height))\n",
    "        )\n",
    "\n",
    "def get_all_crossing_pairs(lineages):\n",
    "    crossing_pairs = []\n",
    "    for i in range(len(lineages)):\n",
    "        for j in range(i+1, len(lineages)):\n",
    "            if crossing(lineages[i], lineages[j]):\n",
    "                crossing_pairs.append([i, j])\n",
    "    return crossing_pairs\n",
    "\n",
    "def improve_x_positions(nodes):\n",
    "\n",
    "    lineages = get_parent_lineages(nodes)\n",
    "    crossing_pairs = get_all_crossing_pairs(lineages)\n",
    "\n",
    "    for i, j in crossing_pairs:\n",
    "        # swap ups\n",
    "        lineages[i].up.xpos, lineages[j].up.xpos = lineages[j].up.xpos, lineages[i].up.xpos\n",
    "        new_crossing_pairs = get_all_crossing_pairs(lineages)\n",
    "        if not len(new_crossing_pairs) < len(crossing_pairs):\n",
    "            # swap ups back\n",
    "            lineages[i].up.xpos, lineages[j].up.xpos = lineages[j].up.xpos, lineages[i].up.xpos\n",
    "\n",
    "            # swap downs\n",
    "            lineages[i].down.xpos, lineages[j].down.xpos = lineages[j].down.xpos, lineages[i].down.xpos\n",
    "            new_crossing_pairs = get_all_crossing_pairs(lineages)\n",
    "            if not len(new_crossing_pairs) < len(crossing_pairs):\n",
    "                # swap downs back\n",
    "                lineages[i].down.xpos, lineages[j].down.xpos = lineages[j].down.xpos, lineages[i].down.xpos\n",
    "\n",
    "\n",
    "from arg import Lineage, Coalescent\n",
    "import numpy as np\n",
    "a = Lineage(down=Coalescent(xpos=1, height=10), up=Coalescent(xpos=20, height=12))\n",
    "b = Lineage(down=Coalescent(xpos=0, height=0), up=Coalescent(xpos=20, height=20))\n",
    "\n",
    "crossing(a, b)\n",
    "get_all_crossing_pairs([a, b])"
   ]
  },
  {
   "cell_type": "code",
   "execution_count": 31,
   "id": "improving-incidence",
   "metadata": {},
   "outputs": [],
   "source": [
    "# def line_intersection(line1, line2):\n",
    "#     xdiff = (line1[0][0] - line1[1][0], line2[0][0] - line2[1][0])\n",
    "#     ydiff = (line1[0][1] - line1[1][1], line2[0][1] - line2[1][1])\n",
    "\n",
    "#     def det(a, b):\n",
    "#         return a[0] * b[1] - a[1] * b[0]\n",
    "\n",
    "#     div = det(xdiff, ydiff)\n",
    "#     if div == 0:\n",
    "#        raise Exception('lines do not intersect')\n",
    "\n",
    "#     d = (det(*line1), det(*line2))\n",
    "#     x = det(d, xdiff) / div\n",
    "#     y = det(d, ydiff) / div\n",
    "#     return x, y\n",
    "\n",
    "# def crossing(line1, line2):\n",
    "#     xdiff = (line1[0][0] - line1[1][0], line2[0][0] - line2[1][0])\n",
    "#     ydiff = (line1[0][1] - line1[1][1], line2[0][1] - line2[1][1])\n",
    "\n",
    "#     def det(a, b):\n",
    "#         return a[0] * b[1] - a[1] * b[0]\n",
    "\n",
    "#     div = det(xdiff, ydiff)\n",
    "#     if div == 0:\n",
    "#         return False\n",
    "#     #    raise Exception('lines do not intersect')\n",
    "\n",
    "#     d = (det(*line1), det(*line2))\n",
    "#     x = det(d, xdiff) / div\n",
    "#     y = det(d, ydiff) / div\n",
    "\n",
    "#     print(x, y)\n",
    "#     # return x, y\n",
    "\n",
    "#     return \\\n",
    "#         min(line1[0][0], line1[1][0]) < x < max(line1[0][0], line1[1][0]) and \\\n",
    "#         min(line2[0][0], line2[1][0]) < x < max(line2[0][0], line2[1][0]) and \\\n",
    "#         min(line1[0][1], line1[1][1]) < y < max(line1[0][1], line1[1][1]) and \\\n",
    "#         min(line2[0][1], line2[1][1]) < y < max(line2[0][1], line2[1][1])\n",
    "\n",
    "\n",
    "\n",
    "# # print(line_intersection((A, B), (C, D)))\n",
    "# print(line_intersection(((0, 10), (20, 12)), ((0, 0), (20, 20))))"
   ]
  },
  {
   "cell_type": "code",
   "execution_count": null,
   "id": "improved-highlight",
   "metadata": {},
   "outputs": [],
   "source": []
  }
 ],
 "metadata": {
  "kernelspec": {
   "display_name": "Python 3",
   "language": "python",
   "name": "python3"
  },
  "language_info": {
   "codemirror_mode": {
    "name": "ipython",
    "version": 3
   },
   "file_extension": ".py",
   "mimetype": "text/x-python",
   "name": "python",
   "nbconvert_exporter": "python",
   "pygments_lexer": "ipython3",
   "version": "3.9.1"
  }
 },
 "nbformat": 4,
 "nbformat_minor": 5
}
