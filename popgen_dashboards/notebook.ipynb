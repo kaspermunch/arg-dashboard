{
 "cells": [
  {
   "cell_type": "markdown",
   "id": "07e51a87-7d15-4af4-bab4-6dcce62f6b4c",
   "metadata": {},
   "source": [
    "# The ancestral recombination graph (ARG)"
   ]
  },
  {
   "cell_type": "markdown",
   "id": "dd02840a-6069-4cc3-8337-9c640f14d40b",
   "metadata": {},
   "source": [
    "Run the cell below to show the dasboard:"
   ]
  },
  {
   "cell_type": "code",
   "execution_count": 3,
   "id": "native-retention",
   "metadata": {},
   "outputs": [
    {
     "data": {
      "text/html": [
       "\n",
       "        <iframe\n",
       "            width=\"100%\"\n",
       "            height=\"900\"\n",
       "            src=\"http://127.0.0.1:8050/\"\n",
       "            frameborder=\"0\"\n",
       "            allowfullscreen\n",
       "            \n",
       "        ></iframe>\n",
       "        "
      ],
      "text/plain": [
       "<IPython.lib.display.IFrame at 0x7fc3dd41e940>"
      ]
     },
     "metadata": {},
     "output_type": "display_data"
    }
   ],
   "source": [
    "import warnings\n",
    "import arg_dashboard\n",
    "with warnings.catch_warnings():\n",
    "    warnings.simplefilter(\"ignore\")\n",
    "    arg_dashboard.app.run_server(mode='inline', height=900, debug=True)"
   ]
  },
  {
   "cell_type": "markdown",
   "id": "539c0997-b078-4265-b0cc-4ee127d106a1",
   "metadata": {},
   "source": [
    "Alternatively, you can run this to get a link to show it in a different window:"
   ]
  },
  {
   "cell_type": "code",
   "execution_count": 7,
   "id": "703667d2-afe5-4800-be3a-59b5fad84fe8",
   "metadata": {},
   "outputs": [
    {
     "name": "stdout",
     "output_type": "stream",
     "text": [
      "Dash app running on http://127.0.0.1:8050/\n"
     ]
    }
   ],
   "source": [
    "import warnings\n",
    "import arg_dashboard\n",
    "with warnings.catch_warnings():\n",
    "    warnings.simplefilter(\"ignore\")\n",
    "    arg_dashboard.app.run_server(debug=False)"
   ]
  },
  {
   "cell_type": "markdown",
   "id": "2eef4d51-ede0-4c3a-be0a-ec63b2ac1733",
   "metadata": {},
   "source": [
    "## Exercise 1\n",
    "\n",
    "1. The *Main* panel shows a simulated graph. Click `New` to generate a new graph. Dropdown menus control the type of graph, the number of samples and the sequence length. Choose \"ARG\" for the simulation, a sample size of \"5\" and a sequence length of \"2kb\". \n",
    "2. Simulate a lot of ARGS. Just keep clicking `New` to see the variation of ARGS.\n",
    "3. Pick and ARG with 2-3 recombincombination events.\n",
    "4. The *Coalesce and recombination events* panel controls the number of events shown in the graph. The *Recombination points* panel shows the points of recombination in the sequence. Use the *Coalesce and recombination events* panel to reconstruct the graph step by step by moving the slider from left to right. Make sure you understand what happens at each coalescence and recombination event.\n",
    "5. Use the two sliders in the *Recombination points* to retrict the view to a smaller part of the sequence. Watch what happens to the arg as you include more or fewer recombination points on the sequence.\n",
    "\n",
    "## Exercise 2\n",
    "\n",
    "1. Click `New` to find an ARG with 2-3 recombincombination events where some of the nodes are not red. Ancestral node colors reflect the proportion of the sequence that is represented in the ancestor. Ancestral material is the part of the sequence that has a descendants among the sampled sequences. Mouse-over a node to see the type of event and the proportion of ancestal proportion sequence at each node. \n",
    "2. Notice how mouse-over also activates the *Ancestral sequences* and *Marginal trees* panels. The *Ancestral sequences* panel shows how ancestral material is merged at coalescence events and divided at recombination events. Sequence segments separated by recombination events are shown with separate colors. The genalogy for each segment is shown in the *Marginal tree* panel with a color matching the segment. Non-ancestral segments are shown in white. Mouse-over the root node of the ARG to see all marginal trees (genealogies) for the ARG. Mouse-over other nodes to see the marginal trees below that node.\n",
    "3. Use the slider in the  *Recombination points* panel to show the graph for only a subset of the sequence. Notice how this affects the shown ARG and the marginal trees when you mouse-over a node. Sequence outside the range specified in the *Recombination points* panel is shown as gray in the *Ancestral sequences* panel.\n",
    "\n",
    "## Exercise 3\n",
    "\n",
    "1. The marginal trees look a lot like each other. Try to understand how each one if different from its neighbor. You can make the range in the *Recombination points* slider really small so it shows only one marginal tree at a time. Now move it along the sequence to see how the ARG changes. Can you see that only one branch detaches and is moved somewhere else?\n",
    "2. Some recombination events do not show up as bifurcations. This because they are followed by a coalescence event that merge the same segments back into one lineage. Simulate some args to see if you can find some of these. You can see them as two nodes on a lineage following each other. Mouse-over the recombination node to see how the sequence segments first split into two lineages and then coalesce at the following coalescence node.\n",
    "\n",
    "## Exercise 4\n",
    "\n",
    "1. See if you can find any nodes where non-ancestral sequence is \"captured\" between two ancestral (colored) segments. Figure out how the segment you found got trapped between two ancestral sequence segments.\n",
    "2. See if you can find it i the SMC'. If you cannot, why do you think that is?\n",
    "\n",
    "## Exercise 5\n",
    "\n",
    "1. Imagine and ARG for a human chromosome - 100,000 times larger than the 2kb we are considering here.\n"
   ]
  },
  {
   "cell_type": "markdown",
   "id": "75191151-82d7-4332-9cb0-70858435c8eb",
   "metadata": {},
   "source": [
    "-----"
   ]
  },
  {
   "cell_type": "markdown",
   "id": "d59c1310-dfa4-4d32-b242-a4697cbbd971",
   "metadata": {},
   "source": [
    "# TODO:\n",
    "\n",
    "- Make the orientation of the left and right sequences in the Ancestral sequences panel fit the left/right orientation in the shown graph.\n",
    "- SMC and SMC prime needs debugging"
   ]
  },
  {
   "cell_type": "code",
   "execution_count": null,
   "id": "e1580335-d7af-48e6-a3f8-6d874f500e2a",
   "metadata": {},
   "outputs": [],
   "source": [
    "from arg_dashboard import app\n",
    "import arg_dashboard\n",
    "\n",
    "import arg_dashboard\n",
    "from importlib import reload\n",
    "reload(arg_dashboard)\n",
    "arg_dashboard.app.run_server(mode='inline', height=900, debug=True)"
   ]
  },
  {
   "cell_type": "code",
   "execution_count": null,
   "id": "538222d5-7c70-47c3-88a8-178594b6a914",
   "metadata": {},
   "outputs": [],
   "source": []
  }
 ],
 "metadata": {
  "kernelspec": {
   "display_name": "Python 3 (ipykernel)",
   "language": "python",
   "name": "python3"
  },
  "language_info": {
   "codemirror_mode": {
    "name": "ipython",
    "version": 3
   },
   "file_extension": ".py",
   "mimetype": "text/x-python",
   "name": "python",
   "nbconvert_exporter": "python",
   "pygments_lexer": "ipython3",
   "version": "3.8.12"
  }
 },
 "nbformat": 4,
 "nbformat_minor": 5
}
