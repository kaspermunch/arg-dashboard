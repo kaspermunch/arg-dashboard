{
 "cells": [
  {
   "cell_type": "markdown",
   "id": "07e51a87-7d15-4af4-bab4-6dcce62f6b4c",
   "metadata": {},
   "source": [
    "# The ancestral recombination graph (ARG)"
   ]
  },
  {
   "cell_type": "code",
   "execution_count": 1,
   "id": "native-retention",
   "metadata": {},
   "outputs": [
    {
     "data": {
      "text/html": [
       "\n",
       "        <iframe\n",
       "            width=\"100%\"\n",
       "            height=\"900\"\n",
       "            src=\"http://127.0.0.1:8050/\"\n",
       "            frameborder=\"0\"\n",
       "            allowfullscreen\n",
       "            \n",
       "        ></iframe>\n",
       "        "
      ],
      "text/plain": [
       "<IPython.lib.display.IFrame at 0x1178a7250>"
      ]
     },
     "metadata": {},
     "output_type": "display_data"
    }
   ],
   "source": [
    "import arg_dashboard\n",
    "arg_dashboard.app.run_server(mode='inline', height=900, debug=True)"
   ]
  },
  {
   "cell_type": "markdown",
   "id": "2eef4d51-ede0-4c3a-be0a-ec63b2ac1733",
   "metadata": {},
   "source": [
    "# Exercises\n",
    "\n",
    "- For now just see if you can find your way around the dashboard..."
   ]
  },
  {
   "cell_type": "code",
   "execution_count": null,
   "id": "e1580335-d7af-48e6-a3f8-6d874f500e2a",
   "metadata": {},
   "outputs": [],
   "source": [
    "from arg_dashboard import app\n",
    "import arg_dashboard\n",
    "\n",
    "import arg_dashboard\n",
    "from importlib import reload\n",
    "reload(arg_dashboard)\n",
    "arg_dashboard.app.run_server(mode='inline', height=900, debug=True)"
   ]
  }
 ],
 "metadata": {
  "kernelspec": {
   "display_name": "Python 3 (ipykernel)",
   "language": "python",
   "name": "python3"
  },
  "language_info": {
   "codemirror_mode": {
    "name": "ipython",
    "version": 3
   },
   "file_extension": ".py",
   "mimetype": "text/x-python",
   "name": "python",
   "nbconvert_exporter": "python",
   "pygments_lexer": "ipython3",
   "version": "3.10.2"
  }
 },
 "nbformat": 4,
 "nbformat_minor": 5
}
